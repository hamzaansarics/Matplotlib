{
 "cells": [
  {
   "cell_type": "code",
   "execution_count": 4,
   "metadata": {},
   "outputs": [],
   "source": [
    "import matplotlib.pyplot as plt\n",
    "import random,time\n",
    "import matplotlib.animation as animation\n",
    "from matplotlib import style\n",
    "%matplotlib qt\n",
    "fig=plt.figure()\n",
    "ax=fig.add_subplot(1,1,1)\n",
    "def animate(i):\n",
    "        graph=open(r'C:\\Users\\Hamza\\Desktop\\livetxt.txt','r').read()\n",
    "        xs,ys=[],[]\n",
    "        lines=graph.split('\\n')\n",
    "        for line in lines:\n",
    "            if len(line)>1:\n",
    "                x,y=line.split(',')\n",
    "                xs.append(x)\n",
    "                ys.append(y)\n",
    "        ax.clear()\n",
    "        ax.plot(xs,ys)\n",
    "ani=animation.FuncAnimation(fig,animate,interval=1000)\n",
    "plt.show()"
   ]
  },
  {
   "cell_type": "code",
   "execution_count": null,
   "metadata": {},
   "outputs": [],
   "source": []
  },
  {
   "cell_type": "code",
   "execution_count": null,
   "metadata": {},
   "outputs": [],
   "source": []
  }
 ],
 "metadata": {
  "kernelspec": {
   "display_name": "Python 3",
   "language": "python",
   "name": "python3"
  },
  "language_info": {
   "codemirror_mode": {
    "name": "ipython",
    "version": 3
   },
   "file_extension": ".py",
   "mimetype": "text/x-python",
   "name": "python",
   "nbconvert_exporter": "python",
   "pygments_lexer": "ipython3",
   "version": "3.7.3"
  }
 },
 "nbformat": 4,
 "nbformat_minor": 2
}
