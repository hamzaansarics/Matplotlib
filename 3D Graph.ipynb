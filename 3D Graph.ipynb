{
 "cells": [
  {
   "cell_type": "code",
   "execution_count": 1,
   "metadata": {},
   "outputs": [],
   "source": [
    "%matplotlib qt\n",
    "import numpy as np\n",
    "import matplotlib.pyplot as plt\n",
    "from mpl_toolkits.mplot3d import axes3d"
   ]
  },
  {
   "cell_type": "code",
   "execution_count": 2,
   "metadata": {},
   "outputs": [],
   "source": [
    "x=[1,2,3,4,5,6,7,8,9,10]\n",
    "y=[6,2,4,7,9,0,5,3,1,3]\n",
    "z=[4,5,6,1,2,4,9,5,0,5]\n",
    "x1=[1,2,3,4,5,6,7,8,9,10]\n",
    "y1=[6,6,3,7,1,0,5,3,1,6]\n",
    "z1=[7,2,6,1,2,4,0,5,9,3]"
   ]
  },
  {
   "cell_type": "code",
   "execution_count": 3,
   "metadata": {},
   "outputs": [],
   "source": [
    "fig=plt.figure()\n",
    "ax=fig.add_subplot(221,projection='3d')\n",
    "ax1=fig.add_subplot(222,projection='3d',sharex=ax)\n",
    "ax2=fig.add_subplot(212,sharex=ax)\n",
    "ax.plot(x,y,z)\n",
    "ax.scatter(x,y,z,color='r',marker='*')\n",
    "ax1.scatter(x1,y1,z1,color='g')\n",
    "ax.set_xlabel('x-label')\n",
    "ax.set_ylabel('y-label')\n",
    "ax.set_zlabel('z-label')\n",
    "ax1.set_xlabel('x-label')\n",
    "ax1.set_ylabel('y-label')\n",
    "ax1.set_zlabel('z-label')\n",
    "ax2.set_xlabel('x-label')\n",
    "ax2.set_ylabel('y-label')\n",
    "# ax2.set_zlabel('z-label')\n",
    "plt.show()"
   ]
  },
  {
   "cell_type": "code",
   "execution_count": 4,
   "metadata": {},
   "outputs": [
    {
     "data": {
      "text/plain": [
       "<BarContainer object of 10 artists>"
      ]
     },
     "execution_count": 4,
     "metadata": {},
     "output_type": "execute_result"
    }
   ],
   "source": [
    "fig=plt.figure()\n",
    "ax=fig.add_subplot(111,projection='3d')\n",
    "ax.bar(x,y,z)"
   ]
  },
  {
   "cell_type": "code",
   "execution_count": 5,
   "metadata": {},
   "outputs": [
    {
     "data": {
      "text/plain": [
       "[<mpl_toolkits.mplot3d.art3d.Line3D at 0x1e1becdfa20>]"
      ]
     },
     "execution_count": 5,
     "metadata": {},
     "output_type": "execute_result"
    }
   ],
   "source": [
    "fig=plt.figure()\n",
    "ax1=plt.subplot2grid((6,1),(0,0),projection='3d')\n",
    "ax2=plt.subplot2grid((6,1),(1,0),rowspan=4,projection='3d')\n",
    "ax3=plt.subplot2grid((6,1),(5,0),rowspan=1,projection='3d')\n",
    "ax1.plot(x,y,z)\n",
    "ax2.plot(x1,y1,z1)\n",
    "ax3.plot(x,y,z)"
   ]
  },
  {
   "cell_type": "code",
   "execution_count": 6,
   "metadata": {},
   "outputs": [],
   "source": [
    "fig=plt.figure()\n",
    "ax1=fig.add_subplot(111,projection='3d')\n",
    "x1=np.zeros(10)\n",
    "x2=np.zeros(10)\n",
    "ax1.plot(x,y,z)\n",
    "ax1.scatter(x1,y1,z1)\n",
    "ax1.bar3d(x,y,x2,x1,y1,z1)\n",
    "plt.show()"
   ]
  },
  {
   "cell_type": "code",
   "execution_count": 7,
   "metadata": {},
   "outputs": [
    {
     "data": {
      "text/plain": [
       "<mpl_toolkits.mplot3d.art3d.Line3DCollection at 0x1e012a5f630>"
      ]
     },
     "execution_count": 7,
     "metadata": {},
     "output_type": "execute_result"
    }
   ],
   "source": [
    "fig=plt.figure()\n",
    "ax1=fig.add_subplot(111,projection='3d')\n",
    "x,y,z=axes3d.get_test_data()\n",
    "ax1.plot_wireframe(x,y,z,rstride=7,cstride=7)"
   ]
  },
  {
   "cell_type": "code",
   "execution_count": 8,
   "metadata": {},
   "outputs": [
    {
     "name": "stdout",
     "output_type": "stream",
     "text": [
      "C:\\Users\\Programmer\\Anaconda3\\lib\\site-packages\\mpl_toolkits\\mplot3d\\axes3d.py\n"
     ]
    }
   ],
   "source": [
    "print(axes3d.__file__)"
   ]
  },
  {
   "cell_type": "code",
   "execution_count": 18,
   "metadata": {},
   "outputs": [
    {
     "ename": "AttributeError",
     "evalue": "module 'matplotlib.pyplot' has no attribute 'zlabel'",
     "output_type": "error",
     "traceback": [
      "\u001b[1;31m---------------------------------------------------------------------------\u001b[0m",
      "\u001b[1;31mAttributeError\u001b[0m                            Traceback (most recent call last)",
      "\u001b[1;32m<ipython-input-18-bd809659cc47>\u001b[0m in \u001b[0;36m<module>\u001b[1;34m\u001b[0m\n\u001b[0;32m      5\u001b[0m \u001b[0max2\u001b[0m\u001b[1;33m.\u001b[0m\u001b[0mplot\u001b[0m\u001b[1;33m(\u001b[0m\u001b[0mx1\u001b[0m\u001b[1;33m,\u001b[0m\u001b[0my1\u001b[0m\u001b[1;33m,\u001b[0m\u001b[0mz1\u001b[0m\u001b[1;33m)\u001b[0m\u001b[1;33m\u001b[0m\u001b[1;33m\u001b[0m\u001b[0m\n\u001b[0;32m      6\u001b[0m \u001b[0max3\u001b[0m\u001b[1;33m.\u001b[0m\u001b[0mplot\u001b[0m\u001b[1;33m(\u001b[0m\u001b[0mx\u001b[0m\u001b[1;33m,\u001b[0m\u001b[0my\u001b[0m\u001b[1;33m,\u001b[0m\u001b[0mz\u001b[0m\u001b[1;33m)\u001b[0m\u001b[1;33m\u001b[0m\u001b[1;33m\u001b[0m\u001b[0m\n\u001b[1;32m----> 7\u001b[1;33m \u001b[0mplt\u001b[0m\u001b[1;33m.\u001b[0m\u001b[0mzlabel\u001b[0m\u001b[1;33m(\u001b[0m\u001b[1;34m''\u001b[0m\u001b[1;33m)\u001b[0m\u001b[1;33m\u001b[0m\u001b[1;33m\u001b[0m\u001b[0m\n\u001b[0m\u001b[0;32m      8\u001b[0m \u001b[0mplt\u001b[0m\u001b[1;33m.\u001b[0m\u001b[0mshow\u001b[0m\u001b[1;33m(\u001b[0m\u001b[1;33m)\u001b[0m\u001b[1;33m\u001b[0m\u001b[1;33m\u001b[0m\u001b[0m\n",
      "\u001b[1;31mAttributeError\u001b[0m: module 'matplotlib.pyplot' has no attribute 'zlabel'"
     ]
    }
   ],
   "source": [
    "ax1=plt.subplot2grid((6,1),(0,0),projection='3d')\n",
    "ax2=plt.subplot2grid((6,1),(1,0),rowspan=4,projection='3d')\n",
    "ax3=plt.subplot2grid((6,1),(5,0),projection='3d')\n",
    "ax1.plot(x,y,z)\n",
    "ax2.plot(x1,y1,z1)\n",
    "ax3.plot(x,y,z)\n",
    "plt.zlabel('')\n",
    "plt.show()"
   ]
  },
  {
   "cell_type": "code",
   "execution_count": null,
   "metadata": {},
   "outputs": [],
   "source": []
  },
  {
   "cell_type": "code",
   "execution_count": null,
   "metadata": {},
   "outputs": [],
   "source": []
  }
 ],
 "metadata": {
  "kernelspec": {
   "display_name": "Python 3",
   "language": "python",
   "name": "python3"
  },
  "language_info": {
   "codemirror_mode": {
    "name": "ipython",
    "version": 3
   },
   "file_extension": ".py",
   "mimetype": "text/x-python",
   "name": "python",
   "nbconvert_exporter": "python",
   "pygments_lexer": "ipython3",
   "version": "3.7.3"
  }
 },
 "nbformat": 4,
 "nbformat_minor": 2
}
